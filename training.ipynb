{
 "cells": [
  {
   "cell_type": "code",
   "execution_count": 370,
   "metadata": {},
   "outputs": [],
   "source": [
    "import tensorflow as tf\n",
    "from tensorflow import keras\n",
    "from tensorflow.keras import layers, models,losses\n",
    "import matplotlib.pyplot as plt\n",
    "import numpy as np"
   ]
  },
  {
   "cell_type": "code",
   "execution_count": 371,
   "metadata": {},
   "outputs": [],
   "source": [
    "IMAGE_SIZE = 256\n",
    "BATCH_SIZE = 32\n",
    "CHANNELS = 3\n",
    "EPOCHS = 50"
   ]
  },
  {
   "cell_type": "code",
   "execution_count": 372,
   "metadata": {},
   "outputs": [
    {
     "name": "stdout",
     "output_type": "stream",
     "text": [
      "Found 2152 files belonging to 3 classes.\n"
     ]
    }
   ],
   "source": [
    "dataset = tf.keras.utils.image_dataset_from_directory(\n",
    "    'villagepotato',\n",
    "     shuffle=True,\n",
    "     image_size=(IMAGE_SIZE, IMAGE_SIZE),\n",
    "     batch_size= BATCH_SIZE\n",
    ")"
   ]
  },
  {
   "cell_type": "code",
   "execution_count": 373,
   "metadata": {},
   "outputs": [
    {
     "data": {
      "text/plain": [
       "['Potato___Early_blight', 'Potato___Late_blight', 'Potato___healthy']"
      ]
     },
     "execution_count": 373,
     "metadata": {},
     "output_type": "execute_result"
    }
   ],
   "source": [
    "class_name = dataset.class_names\n",
    "class_name"
   ]
  },
  {
   "cell_type": "code",
   "execution_count": 374,
   "metadata": {},
   "outputs": [
    {
     "name": "stdout",
     "output_type": "stream",
     "text": [
      "tf.Tensor([0 0 1 0 1 1 1 1 1 0 1 0 1 0 1 0 1 0 0 0 1 1 1 1 0 1 0 1 0 1 1 1], shape=(32,), dtype=int32)\n",
      "[0 0 1 0 1 1 1 1 1 0 1 0 1 0 1 0 1 0 0 0 1 1 1 1 0 1 0 1 0 1 1 1]\n",
      "(32, 256, 256, 3)\n",
      "(256, 256, 3)\n"
     ]
    }
   ],
   "source": [
    "for image, label in dataset.take(1):\n",
    "    print(label)\n",
    "    print(label.numpy())\n",
    "    print(image.shape)\n",
    "    print(image[0].shape)"
   ]
  },
  {
   "cell_type": "code",
   "execution_count": 375,
   "metadata": {},
   "outputs": [],
   "source": [
    "# plt.figure(figsize=(10,10))\n",
    "# for image,label in dataset.take(1):\n",
    "#     for i in range(12):\n",
    "#         plt.subplot(3,4,i+1)\n",
    "#         plt.imshow(image[i].numpy().astype('uint8'))\n",
    "#         # print(label.numpy())\n",
    "#         plt.axis('off')\n",
    "#         plt.title(class_name[label[i].numpy()])"
   ]
  },
  {
   "cell_type": "markdown",
   "metadata": {},
   "source": [
    "80% => TRAINING\n",
    "20% => (10% VALIDATION, 10% TEST)"
   ]
  },
  {
   "cell_type": "code",
   "execution_count": 376,
   "metadata": {},
   "outputs": [
    {
     "data": {
      "text/plain": [
       "(54, 14)"
      ]
     },
     "execution_count": 376,
     "metadata": {},
     "output_type": "execute_result"
    }
   ],
   "source": [
    "train_size = 0.8\n",
    "len(dataset)*train_size\n",
    "train_ds = dataset.take(54)\n",
    "test_ds = dataset.skip(54)\n",
    "len(train_ds), len(test_ds)"
   ]
  },
  {
   "cell_type": "code",
   "execution_count": 377,
   "metadata": {},
   "outputs": [
    {
     "data": {
      "text/plain": [
       "6.800000000000001"
      ]
     },
     "execution_count": 377,
     "metadata": {},
     "output_type": "execute_result"
    }
   ],
   "source": [
    "val_size = 0.1\n",
    "len(dataset)*val_size"
   ]
  },
  {
   "cell_type": "code",
   "execution_count": 378,
   "metadata": {},
   "outputs": [
    {
     "data": {
      "text/plain": [
       "(6, 8)"
      ]
     },
     "execution_count": 378,
     "metadata": {},
     "output_type": "execute_result"
    }
   ],
   "source": [
    "val_ds = test_ds.take(6)\n",
    "test_ds = test_ds.skip(6)\n",
    "len(val_ds), len(test_ds)"
   ]
  },
  {
   "cell_type": "code",
   "execution_count": 379,
   "metadata": {},
   "outputs": [],
   "source": [
    "def get_dataset_partitions_df(ds, train_split = 0.8, test_split=0.1, valid_split=0.1, shuffle=True, shuffle_size=2000):\n",
    "    ds_size = len(ds)\n",
    "    if shuffle:\n",
    "        ds = ds.shuffle(shuffle_size,seed=12 )\n",
    "    train_size = int(train_split*ds_size)\n",
    "    valid_size = int(valid_split*ds_size)\n",
    "\n",
    "    train_ds = dataset.take(train_size)\n",
    "    test_ds = dataset.skip(train_size).skip(valid_size)\n",
    "    valid_ds = dataset.skip(valid_size).take(valid_size)\n",
    "    return train_ds, valid_ds, test_ds"
   ]
  },
  {
   "cell_type": "code",
   "execution_count": 380,
   "metadata": {},
   "outputs": [],
   "source": [
    "train_ds, valid_ds, test_ds = get_dataset_partitions_df(dataset)"
   ]
  },
  {
   "cell_type": "code",
   "execution_count": 381,
   "metadata": {},
   "outputs": [],
   "source": [
    "train_ds = train_ds.cache().shuffle(1000).prefetch(buffer_size=tf.data.AUTOTUNE)\n",
    "test_ds = test_ds.cache().shuffle(1000).prefetch(buffer_size=tf.data.AUTOTUNE)\n",
    "valid_ds = valid_ds.cache().shuffle(1000).prefetch(buffer_size=tf.data.AUTOTUNE)"
   ]
  },
  {
   "cell_type": "markdown",
   "metadata": {},
   "source": [
    "resize and rescale the image"
   ]
  },
  {
   "cell_type": "code",
   "execution_count": 382,
   "metadata": {},
   "outputs": [],
   "source": [
    "resize_rescale = tf.keras.models.Sequential([\n",
    "    layers.experimental.preprocessing.Resizing(IMAGE_SIZE, IMAGE_SIZE),\n",
    "    layers.experimental.preprocessing.Rescaling(1/255)\n",
    "])"
   ]
  },
  {
   "cell_type": "code",
   "execution_count": 383,
   "metadata": {},
   "outputs": [],
   "source": [
    "data_augumentation = tf.keras.Sequential([\n",
    "    layers.experimental.preprocessing.RandomFlip('horizontal_and_vertical'),\n",
    "    layers.experimental.preprocessing.RandomRotation(0.2)\n",
    "])"
   ]
  },
  {
   "cell_type": "markdown",
   "metadata": {},
   "source": [
    "#### Model training"
   ]
  },
  {
   "cell_type": "code",
   "execution_count": 384,
   "metadata": {},
   "outputs": [],
   "source": [
    "input_shape = (BATCH_SIZE,IMAGE_SIZE, IMAGE_SIZE, CHANNELS)\n",
    "n_classes = 3\n",
    "models = tf.keras.models.Sequential([\n",
    "    resize_rescale,\n",
    "    data_augumentation,\n",
    "    tf.keras.layers.Conv2D(32,3,activation='relu', input_shape = input_shape ),\n",
    "    tf.keras.layers.MaxPooling2D((2,2)),\n",
    "    tf.keras.layers.Conv2D(64,3, activation='relu'),\n",
    "    tf.keras.layers.MaxPooling2D((2,2)),\n",
    "    tf.keras.layers.Conv2D(64, 3, activation='relu'),\n",
    "    tf.keras.layers.MaxPooling2D((2,2)),\n",
    "    tf.keras.layers.Conv2D(64, 3,activation = 'relu'),\n",
    "    tf.keras.layers.MaxPooling2D((2,2)),\n",
    "    tf.keras.layers.Conv2D(64,3, activation = 'relu'),\n",
    "    tf.keras.layers.MaxPooling2D((2,2)),\n",
    "    tf.keras.layers.Conv2D(64, 3,activation = 'relu'),\n",
    "    tf.keras.layers.MaxPooling2D((2,2)),\n",
    "    tf.keras.layers.Flatten(),\n",
    "    tf.keras.layers.Dense(64, activation='relu'),\n",
    "    tf.keras.layers.Dense(n_classes, activation='softmax'),\n",
    "])\n",
    "models.build(input_shape=input_shape)"
   ]
  },
  {
   "cell_type": "code",
   "execution_count": 385,
   "metadata": {},
   "outputs": [
    {
     "name": "stdout",
     "output_type": "stream",
     "text": [
      "Model: \"sequential_18\"\n",
      "_________________________________________________________________\n",
      " Layer (type)                Output Shape              Param #   \n",
      "=================================================================\n",
      " sequential_16 (Sequential)  (32, 256, 256, 3)         0         \n",
      "                                                                 \n",
      " sequential_17 (Sequential)  (32, 256, 256, 3)         0         \n",
      "                                                                 \n",
      " conv2d_28 (Conv2D)          (32, 254, 254, 32)        896       \n",
      "                                                                 \n",
      " max_pooling2d_27 (MaxPooli  (32, 127, 127, 32)        0         \n",
      " ng2D)                                                           \n",
      "                                                                 \n",
      " conv2d_29 (Conv2D)          (32, 125, 125, 64)        18496     \n",
      "                                                                 \n",
      " max_pooling2d_28 (MaxPooli  (32, 62, 62, 64)          0         \n",
      " ng2D)                                                           \n",
      "                                                                 \n",
      " conv2d_30 (Conv2D)          (32, 60, 60, 64)          36928     \n",
      "                                                                 \n",
      " max_pooling2d_29 (MaxPooli  (32, 30, 30, 64)          0         \n",
      " ng2D)                                                           \n",
      "                                                                 \n",
      " conv2d_31 (Conv2D)          (32, 28, 28, 64)          36928     \n",
      "                                                                 \n",
      " max_pooling2d_30 (MaxPooli  (32, 14, 14, 64)          0         \n",
      " ng2D)                                                           \n",
      "                                                                 \n",
      " conv2d_32 (Conv2D)          (32, 12, 12, 64)          36928     \n",
      "                                                                 \n",
      " max_pooling2d_31 (MaxPooli  (32, 6, 6, 64)            0         \n",
      " ng2D)                                                           \n",
      "                                                                 \n",
      " conv2d_33 (Conv2D)          (32, 4, 4, 64)            36928     \n",
      "                                                                 \n",
      " max_pooling2d_32 (MaxPooli  (32, 2, 2, 64)            0         \n",
      " ng2D)                                                           \n",
      "                                                                 \n",
      " flatten_3 (Flatten)         (32, 256)                 0         \n",
      "                                                                 \n",
      " dense_6 (Dense)             (32, 64)                  16448     \n",
      "                                                                 \n",
      " dense_7 (Dense)             (32, 3)                   195       \n",
      "                                                                 \n",
      "=================================================================\n",
      "Total params: 183747 (717.76 KB)\n",
      "Trainable params: 183747 (717.76 KB)\n",
      "Non-trainable params: 0 (0.00 Byte)\n",
      "_________________________________________________________________\n"
     ]
    }
   ],
   "source": [
    "models.summary()"
   ]
  },
  {
   "cell_type": "markdown",
   "metadata": {},
   "source": [
    "#### model compile"
   ]
  },
  {
   "cell_type": "code",
   "execution_count": 391,
   "metadata": {},
   "outputs": [],
   "source": [
    "models.compile(\n",
    "    optimizer='adam',\n",
    "    loss=tf.keras.losses.SparseCategoricalCrossentropy(from_logits=False),\n",
    "    metrics=['accuracy']\n",
    ")"
   ]
  },
  {
   "cell_type": "markdown",
   "metadata": {},
   "source": [
    "#### model fit"
   ]
  },
  {
   "cell_type": "code",
   "execution_count": 395,
   "metadata": {},
   "outputs": [
    {
     "name": "stdout",
     "output_type": "stream",
     "text": [
      "Epoch 1/15\n"
     ]
    },
    {
     "name": "stdout",
     "output_type": "stream",
     "text": [
      "54/54 [==============================] - 92s 2s/step - loss: 0.1622 - accuracy: 0.9381 - val_loss: 0.2368 - val_accuracy: 0.8958\n",
      "Epoch 2/15\n",
      "54/54 [==============================] - 90s 2s/step - loss: 0.1250 - accuracy: 0.9485 - val_loss: 0.4790 - val_accuracy: 0.8698\n",
      "Epoch 3/15\n",
      "54/54 [==============================] - 87s 2s/step - loss: 0.1345 - accuracy: 0.9468 - val_loss: 0.5583 - val_accuracy: 0.8438\n",
      "Epoch 4/15\n",
      "54/54 [==============================] - 94s 2s/step - loss: 0.1143 - accuracy: 0.9560 - val_loss: 0.3275 - val_accuracy: 0.8594\n",
      "Epoch 5/15\n",
      "54/54 [==============================] - 88s 2s/step - loss: 0.1073 - accuracy: 0.9630 - val_loss: 0.3848 - val_accuracy: 0.8594\n",
      "Epoch 6/15\n",
      "54/54 [==============================] - 82s 2s/step - loss: 0.0740 - accuracy: 0.9734 - val_loss: 0.5066 - val_accuracy: 0.8490\n",
      "Epoch 7/15\n",
      "54/54 [==============================] - 82s 2s/step - loss: 0.0874 - accuracy: 0.9699 - val_loss: 0.1303 - val_accuracy: 0.9375\n",
      "Epoch 8/15\n",
      "54/54 [==============================] - 82s 2s/step - loss: 0.0932 - accuracy: 0.9653 - val_loss: 0.1689 - val_accuracy: 0.9271\n",
      "Epoch 9/15\n",
      "54/54 [==============================] - 82s 2s/step - loss: 0.0515 - accuracy: 0.9803 - val_loss: 0.4042 - val_accuracy: 0.8958\n",
      "Epoch 10/15\n",
      "54/54 [==============================] - 81s 1s/step - loss: 0.0642 - accuracy: 0.9792 - val_loss: 0.1066 - val_accuracy: 0.9583\n",
      "Epoch 11/15\n",
      "54/54 [==============================] - 83s 2s/step - loss: 0.0356 - accuracy: 0.9884 - val_loss: 0.2896 - val_accuracy: 0.9062\n",
      "Epoch 12/15\n",
      "54/54 [==============================] - 82s 2s/step - loss: 0.0912 - accuracy: 0.9659 - val_loss: 0.0416 - val_accuracy: 0.9948\n",
      "Epoch 13/15\n",
      "54/54 [==============================] - 85s 2s/step - loss: 0.0638 - accuracy: 0.9780 - val_loss: 0.1546 - val_accuracy: 0.9323\n",
      "Epoch 14/15\n",
      "54/54 [==============================] - 83s 2s/step - loss: 0.0482 - accuracy: 0.9838 - val_loss: 0.0703 - val_accuracy: 0.9740\n",
      "Epoch 15/15\n",
      "54/54 [==============================] - 82s 2s/step - loss: 0.0281 - accuracy: 0.9902 - val_loss: 0.1679 - val_accuracy: 0.9375\n"
     ]
    }
   ],
   "source": [
    "history = models.fit(\n",
    "    train_ds,\n",
    "    epochs=15,\n",
    "    batch_size=BATCH_SIZE,\n",
    "    verbose=1,\n",
    "    validation_data=valid_ds\n",
    ")"
   ]
  },
  {
   "cell_type": "code",
   "execution_count": null,
   "metadata": {},
   "outputs": [],
   "source": []
  }
 ],
 "metadata": {
  "kernelspec": {
   "display_name": "Python 3",
   "language": "python",
   "name": "python3"
  },
  "language_info": {
   "codemirror_mode": {
    "name": "ipython",
    "version": 3
   },
   "file_extension": ".py",
   "mimetype": "text/x-python",
   "name": "python",
   "nbconvert_exporter": "python",
   "pygments_lexer": "ipython3",
   "version": "3.11.4"
  },
  "orig_nbformat": 4
 },
 "nbformat": 4,
 "nbformat_minor": 2
}
